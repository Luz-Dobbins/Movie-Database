{
 "cells": [
  {
   "cell_type": "markdown",
   "id": "3343823f",
   "metadata": {},
   "source": [
    "# Part 2.b"
   ]
  },
  {
   "cell_type": "code",
   "execution_count": 1,
   "id": "d127f707",
   "metadata": {},
   "outputs": [],
   "source": [
    "import pandas as pd\n",
    "import numpy as np\n",
    "import seaborn as sns"
   ]
  },
  {
   "cell_type": "markdown",
   "id": "e0739b73",
   "metadata": {},
   "source": [
    "### Concatenate the data into 1 dataframe for the remainder of the analysis."
   ]
  },
  {
   "cell_type": "code",
   "execution_count": 2,
   "id": "3be03b6a",
   "metadata": {},
   "outputs": [],
   "source": [
    "year_2001 = pd.read_csv('Data/final_tmdb_data_2001.csv.gz')\n",
    "year_2002 = pd.read_csv('Data/final_tmdb_data_2002.csv.gz')\n",
    "year_2003 = pd.read_csv('Data/final_tmdb_data_2003.csv.gz')\n",
    "year_2004 = pd.read_csv('Data/final_tmdb_data_2004.csv.gz')\n",
    "year_2005 = pd.read_csv('Data/final_tmdb_data_2005.csv.gz')\n",
    "year_2006 = pd.read_csv('Data/final_tmdb_data_2006.csv.gz')\n",
    "year_2007 = pd.read_csv('Data/final_tmdb_data_2007.csv.gz')\n",
    "year_2008 = pd.read_csv('Data/final_tmdb_data_2008.csv.gz')\n",
    "year_2009 = pd.read_csv('Data/final_tmdb_data_2009.csv.gz')\n",
    "year_2010 = pd.read_csv('Data/final_tmdb_data_2010.csv.gz')"
   ]
  },
  {
   "cell_type": "code",
   "execution_count": 3,
   "id": "17341a89",
   "metadata": {},
   "outputs": [
    {
     "data": {
      "text/html": [
       "<div>\n",
       "<style scoped>\n",
       "    .dataframe tbody tr th:only-of-type {\n",
       "        vertical-align: middle;\n",
       "    }\n",
       "\n",
       "    .dataframe tbody tr th {\n",
       "        vertical-align: top;\n",
       "    }\n",
       "\n",
       "    .dataframe thead th {\n",
       "        text-align: right;\n",
       "    }\n",
       "</style>\n",
       "<table border=\"1\" class=\"dataframe\">\n",
       "  <thead>\n",
       "    <tr style=\"text-align: right;\">\n",
       "      <th></th>\n",
       "      <th>imdb_id</th>\n",
       "      <th>adult</th>\n",
       "      <th>backdrop_path</th>\n",
       "      <th>belongs_to_collection</th>\n",
       "      <th>budget</th>\n",
       "      <th>genres</th>\n",
       "      <th>homepage</th>\n",
       "      <th>id</th>\n",
       "      <th>original_language</th>\n",
       "      <th>original_title</th>\n",
       "      <th>...</th>\n",
       "      <th>revenue</th>\n",
       "      <th>runtime</th>\n",
       "      <th>spoken_languages</th>\n",
       "      <th>status</th>\n",
       "      <th>tagline</th>\n",
       "      <th>title</th>\n",
       "      <th>video</th>\n",
       "      <th>vote_average</th>\n",
       "      <th>vote_count</th>\n",
       "      <th>certification</th>\n",
       "    </tr>\n",
       "  </thead>\n",
       "  <tbody>\n",
       "    <tr>\n",
       "      <th>0</th>\n",
       "      <td>0</td>\n",
       "      <td>NaN</td>\n",
       "      <td>NaN</td>\n",
       "      <td>NaN</td>\n",
       "      <td>NaN</td>\n",
       "      <td>NaN</td>\n",
       "      <td>NaN</td>\n",
       "      <td>NaN</td>\n",
       "      <td>NaN</td>\n",
       "      <td>NaN</td>\n",
       "      <td>...</td>\n",
       "      <td>NaN</td>\n",
       "      <td>NaN</td>\n",
       "      <td>NaN</td>\n",
       "      <td>NaN</td>\n",
       "      <td>NaN</td>\n",
       "      <td>NaN</td>\n",
       "      <td>NaN</td>\n",
       "      <td>NaN</td>\n",
       "      <td>NaN</td>\n",
       "      <td>NaN</td>\n",
       "    </tr>\n",
       "    <tr>\n",
       "      <th>1</th>\n",
       "      <td>tt0035423</td>\n",
       "      <td>0.0</td>\n",
       "      <td>/tJLV3BAlHOgscVOrA99Wnb2gAef.jpg</td>\n",
       "      <td>NaN</td>\n",
       "      <td>48000000.0</td>\n",
       "      <td>[{'id': 10749, 'name': 'Romance'}, {'id': 14, ...</td>\n",
       "      <td>NaN</td>\n",
       "      <td>11232.0</td>\n",
       "      <td>en</td>\n",
       "      <td>Kate &amp; Leopold</td>\n",
       "      <td>...</td>\n",
       "      <td>76019048.0</td>\n",
       "      <td>118.0</td>\n",
       "      <td>[{'english_name': 'French', 'iso_639_1': 'fr',...</td>\n",
       "      <td>Released</td>\n",
       "      <td>If they lived in the same century, they'd be p...</td>\n",
       "      <td>Kate &amp; Leopold</td>\n",
       "      <td>0.0</td>\n",
       "      <td>6.323</td>\n",
       "      <td>1242.0</td>\n",
       "      <td>PG-13</td>\n",
       "    </tr>\n",
       "    <tr>\n",
       "      <th>2</th>\n",
       "      <td>tt0114447</td>\n",
       "      <td>0.0</td>\n",
       "      <td>NaN</td>\n",
       "      <td>NaN</td>\n",
       "      <td>0.0</td>\n",
       "      <td>[{'id': 53, 'name': 'Thriller'}, {'id': 28, 'n...</td>\n",
       "      <td>NaN</td>\n",
       "      <td>151007.0</td>\n",
       "      <td>en</td>\n",
       "      <td>The Silent Force</td>\n",
       "      <td>...</td>\n",
       "      <td>0.0</td>\n",
       "      <td>90.0</td>\n",
       "      <td>[{'english_name': 'English', 'iso_639_1': 'en'...</td>\n",
       "      <td>Released</td>\n",
       "      <td>They left him for dead... They should have fin...</td>\n",
       "      <td>The Silent Force</td>\n",
       "      <td>0.0</td>\n",
       "      <td>5.000</td>\n",
       "      <td>3.0</td>\n",
       "      <td>NaN</td>\n",
       "    </tr>\n",
       "    <tr>\n",
       "      <th>3</th>\n",
       "      <td>tt0118589</td>\n",
       "      <td>0.0</td>\n",
       "      <td>/9NZAirJahVilTiDNCHLFcdkwkiy.jpg</td>\n",
       "      <td>NaN</td>\n",
       "      <td>22000000.0</td>\n",
       "      <td>[{'id': 18, 'name': 'Drama'}, {'id': 10402, 'n...</td>\n",
       "      <td>NaN</td>\n",
       "      <td>10696.0</td>\n",
       "      <td>en</td>\n",
       "      <td>Glitter</td>\n",
       "      <td>...</td>\n",
       "      <td>5271666.0</td>\n",
       "      <td>104.0</td>\n",
       "      <td>[{'english_name': 'English', 'iso_639_1': 'en'...</td>\n",
       "      <td>Released</td>\n",
       "      <td>In music she found her dream, her love, herself.</td>\n",
       "      <td>Glitter</td>\n",
       "      <td>0.0</td>\n",
       "      <td>4.405</td>\n",
       "      <td>132.0</td>\n",
       "      <td>PG-13</td>\n",
       "    </tr>\n",
       "    <tr>\n",
       "      <th>4</th>\n",
       "      <td>tt0118652</td>\n",
       "      <td>0.0</td>\n",
       "      <td>/mWxJEFRMvkG4UItYJkRDMgWQ08Y.jpg</td>\n",
       "      <td>NaN</td>\n",
       "      <td>1000000.0</td>\n",
       "      <td>[{'id': 27, 'name': 'Horror'}, {'id': 9648, 'n...</td>\n",
       "      <td>NaN</td>\n",
       "      <td>17140.0</td>\n",
       "      <td>en</td>\n",
       "      <td>The Attic Expeditions</td>\n",
       "      <td>...</td>\n",
       "      <td>0.0</td>\n",
       "      <td>100.0</td>\n",
       "      <td>[{'english_name': 'English', 'iso_639_1': 'en'...</td>\n",
       "      <td>Released</td>\n",
       "      <td>His search for peace of mind... will leave his...</td>\n",
       "      <td>The Attic Expeditions</td>\n",
       "      <td>0.0</td>\n",
       "      <td>5.156</td>\n",
       "      <td>32.0</td>\n",
       "      <td>R</td>\n",
       "    </tr>\n",
       "  </tbody>\n",
       "</table>\n",
       "<p>5 rows × 26 columns</p>\n",
       "</div>"
      ],
      "text/plain": [
       "     imdb_id  adult                     backdrop_path belongs_to_collection  \\\n",
       "0          0    NaN                               NaN                   NaN   \n",
       "1  tt0035423    0.0  /tJLV3BAlHOgscVOrA99Wnb2gAef.jpg                   NaN   \n",
       "2  tt0114447    0.0                               NaN                   NaN   \n",
       "3  tt0118589    0.0  /9NZAirJahVilTiDNCHLFcdkwkiy.jpg                   NaN   \n",
       "4  tt0118652    0.0  /mWxJEFRMvkG4UItYJkRDMgWQ08Y.jpg                   NaN   \n",
       "\n",
       "       budget                                             genres homepage  \\\n",
       "0         NaN                                                NaN      NaN   \n",
       "1  48000000.0  [{'id': 10749, 'name': 'Romance'}, {'id': 14, ...      NaN   \n",
       "2         0.0  [{'id': 53, 'name': 'Thriller'}, {'id': 28, 'n...      NaN   \n",
       "3  22000000.0  [{'id': 18, 'name': 'Drama'}, {'id': 10402, 'n...      NaN   \n",
       "4   1000000.0  [{'id': 27, 'name': 'Horror'}, {'id': 9648, 'n...      NaN   \n",
       "\n",
       "         id original_language         original_title  ...     revenue  \\\n",
       "0       NaN               NaN                    NaN  ...         NaN   \n",
       "1   11232.0                en         Kate & Leopold  ...  76019048.0   \n",
       "2  151007.0                en       The Silent Force  ...         0.0   \n",
       "3   10696.0                en                Glitter  ...   5271666.0   \n",
       "4   17140.0                en  The Attic Expeditions  ...         0.0   \n",
       "\n",
       "   runtime                                   spoken_languages    status  \\\n",
       "0      NaN                                                NaN       NaN   \n",
       "1    118.0  [{'english_name': 'French', 'iso_639_1': 'fr',...  Released   \n",
       "2     90.0  [{'english_name': 'English', 'iso_639_1': 'en'...  Released   \n",
       "3    104.0  [{'english_name': 'English', 'iso_639_1': 'en'...  Released   \n",
       "4    100.0  [{'english_name': 'English', 'iso_639_1': 'en'...  Released   \n",
       "\n",
       "                                             tagline                  title  \\\n",
       "0                                                NaN                    NaN   \n",
       "1  If they lived in the same century, they'd be p...         Kate & Leopold   \n",
       "2  They left him for dead... They should have fin...       The Silent Force   \n",
       "3   In music she found her dream, her love, herself.                Glitter   \n",
       "4  His search for peace of mind... will leave his...  The Attic Expeditions   \n",
       "\n",
       "   video  vote_average vote_count certification  \n",
       "0    NaN           NaN        NaN           NaN  \n",
       "1    0.0         6.323     1242.0         PG-13  \n",
       "2    0.0         5.000        3.0           NaN  \n",
       "3    0.0         4.405      132.0         PG-13  \n",
       "4    0.0         5.156       32.0             R  \n",
       "\n",
       "[5 rows x 26 columns]"
      ]
     },
     "execution_count": 3,
     "metadata": {},
     "output_type": "execute_result"
    }
   ],
   "source": [
    "df = pd.concat([year_2001, year_2002, year_2003, year_2004, year_2005,\n",
    "               year_2006, year_2007, year_2008, year_2009, year_2010])\n",
    "df.head()"
   ]
  },
  {
   "cell_type": "code",
   "execution_count": 4,
   "id": "ed13869c",
   "metadata": {},
   "outputs": [
    {
     "name": "stdout",
     "output_type": "stream",
     "text": [
      "<class 'pandas.core.frame.DataFrame'>\n",
      "Int64Index: 18670 entries, 0 to 2755\n",
      "Data columns (total 26 columns):\n",
      " #   Column                 Non-Null Count  Dtype  \n",
      "---  ------                 --------------  -----  \n",
      " 0   imdb_id                18670 non-null  object \n",
      " 1   adult                  18660 non-null  float64\n",
      " 2   backdrop_path          10505 non-null  object \n",
      " 3   belongs_to_collection  1405 non-null   object \n",
      " 4   budget                 18660 non-null  float64\n",
      " 5   genres                 18660 non-null  object \n",
      " 6   homepage               3548 non-null   object \n",
      " 7   id                     18660 non-null  float64\n",
      " 8   original_language      18660 non-null  object \n",
      " 9   original_title         18660 non-null  object \n",
      " 10  overview               18215 non-null  object \n",
      " 11  popularity             18660 non-null  float64\n",
      " 12  poster_path            16496 non-null  object \n",
      " 13  production_companies   18660 non-null  object \n",
      " 14  production_countries   18660 non-null  object \n",
      " 15  release_date           18300 non-null  object \n",
      " 16  revenue                18660 non-null  float64\n",
      " 17  runtime                18660 non-null  float64\n",
      " 18  spoken_languages       18660 non-null  object \n",
      " 19  status                 18660 non-null  object \n",
      " 20  tagline                7844 non-null   object \n",
      " 21  title                  18660 non-null  object \n",
      " 22  video                  18660 non-null  float64\n",
      " 23  vote_average           18660 non-null  float64\n",
      " 24  vote_count             18660 non-null  float64\n",
      " 25  certification          5382 non-null   object \n",
      "dtypes: float64(9), object(17)\n",
      "memory usage: 3.8+ MB\n"
     ]
    }
   ],
   "source": [
    "df.info()"
   ]
  },
  {
   "cell_type": "code",
   "execution_count": 5,
   "id": "b2b3d7e2",
   "metadata": {},
   "outputs": [
    {
     "data": {
      "text/plain": [
       "9"
      ]
     },
     "execution_count": 5,
     "metadata": {},
     "output_type": "execute_result"
    }
   ],
   "source": [
    "df.duplicated().sum()"
   ]
  },
  {
   "cell_type": "code",
   "execution_count": 6,
   "id": "81920bd2",
   "metadata": {},
   "outputs": [],
   "source": [
    "df.drop_duplicates(inplace=True)"
   ]
  },
  {
   "cell_type": "markdown",
   "id": "f756ab7b",
   "metadata": {},
   "source": [
    "### How many movies had at least some valid financial information (values > 0 for budget OR revenue)?"
   ]
  },
  {
   "cell_type": "code",
   "execution_count": 7,
   "id": "2cf95563",
   "metadata": {},
   "outputs": [],
   "source": [
    "# budget = df['budget'] > 0\n",
    "# revenue = df['revenue'] > 0\n",
    "# financial_filter = df.loc[budget | revenue]"
   ]
  },
  {
   "cell_type": "code",
   "execution_count": 8,
   "id": "3168555b",
   "metadata": {},
   "outputs": [
    {
     "data": {
      "text/plain": [
       "False    13328\n",
       "True      5333\n",
       "dtype: int64"
      ]
     },
     "execution_count": 8,
     "metadata": {},
     "output_type": "execute_result"
    }
   ],
   "source": [
    "filter_financial = (df['budget'] > 0) | (df['revenue']>0)\n",
    "filter_financial.value_counts()"
   ]
  },
  {
   "cell_type": "code",
   "execution_count": 9,
   "id": "bcb66674",
   "metadata": {},
   "outputs": [],
   "source": [
    "plot_df = df[filter_financial].copy()"
   ]
  },
  {
   "cell_type": "markdown",
   "id": "23b827f0",
   "metadata": {},
   "source": [
    "### How many movies are there in each of the certification categories (G/PG/PG-13/R)?"
   ]
  },
  {
   "cell_type": "code",
   "execution_count": 10,
   "id": "c964a3ee",
   "metadata": {},
   "outputs": [],
   "source": [
    "## to order them (optional)\n",
    "cert_order = ['G','PG','PG-13','R','NR']"
   ]
  },
  {
   "cell_type": "code",
   "execution_count": 11,
   "id": "a8e128dd",
   "metadata": {},
   "outputs": [
    {
     "data": {
      "image/png": "[encoded data removed]",
      "text/plain": [
       "<Figure size 640x480 with 1 Axes>"
      ]
     },
     "metadata": {},
     "output_type": "display_data"
    }
   ],
   "source": [
    "sns.countplot(data=plot_df, x='certification',order=cert_order);"
   ]
  },
  {
   "cell_type": "markdown",
   "id": "69c54b6b",
   "metadata": {},
   "source": [
    "### What is the average revenue per certification category?"
   ]
  },
  {
   "cell_type": "code",
   "execution_count": 12,
   "id": "7d26876e",
   "metadata": {},
   "outputs": [
    {
     "data": {
      "text/plain": [
       "certification\n",
       "G                                  5.106936e+07\n",
       "NC-17                              2.976642e+06\n",
       "NR                                 2.912241e+06\n",
       "Not Rated                          0.000000e+00\n",
       "PG                                 7.304115e+07\n",
       "PG-13                              6.485726e+07\n",
       "R                                  1.364824e+07\n",
       "ScreamFest Horror Film Festival    0.000000e+00\n",
       "UR                                 0.000000e+00\n",
       "Name: revenue, dtype: float64"
      ]
     },
     "execution_count": 12,
     "metadata": {},
     "output_type": "execute_result"
    }
   ],
   "source": [
    "df.groupby(['certification'])['revenue'].apply(lambda x:x.mean())"
   ]
  },
  {
   "cell_type": "markdown",
   "id": "1707677a",
   "metadata": {},
   "source": [
    "### What is the average budget per certification category?"
   ]
  },
  {
   "cell_type": "code",
   "execution_count": 13,
   "id": "c58acb92",
   "metadata": {},
   "outputs": [
    {
     "data": {
      "text/plain": [
       "certification\n",
       "G                                  1.772047e+07\n",
       "NC-17                              1.118875e+06\n",
       "NR                                 1.414270e+06\n",
       "Not Rated                          0.000000e+00\n",
       "PG                                 2.601520e+07\n",
       "PG-13                              2.502258e+07\n",
       "R                                  7.660136e+06\n",
       "ScreamFest Horror Film Festival    0.000000e+00\n",
       "UR                                 0.000000e+00\n",
       "Name: budget, dtype: float64"
      ]
     },
     "execution_count": 13,
     "metadata": {},
     "output_type": "execute_result"
    }
   ],
   "source": [
    "df.groupby(['certification'])['budget'].apply(lambda x:x.mean())"
   ]
  },
  {
   "cell_type": "code",
   "execution_count": 14,
   "id": "24a14730",
   "metadata": {},
   "outputs": [],
   "source": [
    "## Save current dataframe to file.\n",
    "df.to_csv(\"Data/tmdb_results_combined.csv.gz\",compression='gzip',index=False)"
   ]
  },
  {
   "cell_type": "code",
   "execution_count": 15,
   "id": "78acbf79",
   "metadata": {},
   "outputs": [
    {
     "data": {
      "text/html": [
       "<div>\n",
       "<style scoped>\n",
       "    .dataframe tbody tr th:only-of-type {\n",
       "        vertical-align: middle;\n",
       "    }\n",
       "\n",
       "    .dataframe tbody tr th {\n",
       "        vertical-align: top;\n",
       "    }\n",
       "\n",
       "    .dataframe thead th {\n",
       "        text-align: right;\n",
       "    }\n",
       "</style>\n",
       "<table border=\"1\" class=\"dataframe\">\n",
       "  <thead>\n",
       "    <tr style=\"text-align: right;\">\n",
       "      <th></th>\n",
       "      <th>imdb_id</th>\n",
       "      <th>adult</th>\n",
       "      <th>backdrop_path</th>\n",
       "      <th>belongs_to_collection</th>\n",
       "      <th>budget</th>\n",
       "      <th>genres</th>\n",
       "      <th>homepage</th>\n",
       "      <th>id</th>\n",
       "      <th>original_language</th>\n",
       "      <th>original_title</th>\n",
       "      <th>...</th>\n",
       "      <th>revenue</th>\n",
       "      <th>runtime</th>\n",
       "      <th>spoken_languages</th>\n",
       "      <th>status</th>\n",
       "      <th>tagline</th>\n",
       "      <th>title</th>\n",
       "      <th>video</th>\n",
       "      <th>vote_average</th>\n",
       "      <th>vote_count</th>\n",
       "      <th>certification</th>\n",
       "    </tr>\n",
       "  </thead>\n",
       "  <tbody>\n",
       "    <tr>\n",
       "      <th>0</th>\n",
       "      <td>0</td>\n",
       "      <td>NaN</td>\n",
       "      <td>NaN</td>\n",
       "      <td>NaN</td>\n",
       "      <td>NaN</td>\n",
       "      <td>NaN</td>\n",
       "      <td>NaN</td>\n",
       "      <td>NaN</td>\n",
       "      <td>NaN</td>\n",
       "      <td>NaN</td>\n",
       "      <td>...</td>\n",
       "      <td>NaN</td>\n",
       "      <td>NaN</td>\n",
       "      <td>NaN</td>\n",
       "      <td>NaN</td>\n",
       "      <td>NaN</td>\n",
       "      <td>NaN</td>\n",
       "      <td>NaN</td>\n",
       "      <td>NaN</td>\n",
       "      <td>NaN</td>\n",
       "      <td>NaN</td>\n",
       "    </tr>\n",
       "    <tr>\n",
       "      <th>1</th>\n",
       "      <td>tt0035423</td>\n",
       "      <td>0.0</td>\n",
       "      <td>/tJLV3BAlHOgscVOrA99Wnb2gAef.jpg</td>\n",
       "      <td>NaN</td>\n",
       "      <td>48000000.0</td>\n",
       "      <td>[{'id': 10749, 'name': 'Romance'}, {'id': 14, ...</td>\n",
       "      <td>NaN</td>\n",
       "      <td>11232.0</td>\n",
       "      <td>en</td>\n",
       "      <td>Kate &amp; Leopold</td>\n",
       "      <td>...</td>\n",
       "      <td>76019048.0</td>\n",
       "      <td>118.0</td>\n",
       "      <td>[{'english_name': 'French', 'iso_639_1': 'fr',...</td>\n",
       "      <td>Released</td>\n",
       "      <td>If they lived in the same century, they'd be p...</td>\n",
       "      <td>Kate &amp; Leopold</td>\n",
       "      <td>0.0</td>\n",
       "      <td>6.323</td>\n",
       "      <td>1242.0</td>\n",
       "      <td>PG-13</td>\n",
       "    </tr>\n",
       "    <tr>\n",
       "      <th>2</th>\n",
       "      <td>tt0114447</td>\n",
       "      <td>0.0</td>\n",
       "      <td>NaN</td>\n",
       "      <td>NaN</td>\n",
       "      <td>0.0</td>\n",
       "      <td>[{'id': 53, 'name': 'Thriller'}, {'id': 28, 'n...</td>\n",
       "      <td>NaN</td>\n",
       "      <td>151007.0</td>\n",
       "      <td>en</td>\n",
       "      <td>The Silent Force</td>\n",
       "      <td>...</td>\n",
       "      <td>0.0</td>\n",
       "      <td>90.0</td>\n",
       "      <td>[{'english_name': 'English', 'iso_639_1': 'en'...</td>\n",
       "      <td>Released</td>\n",
       "      <td>They left him for dead... They should have fin...</td>\n",
       "      <td>The Silent Force</td>\n",
       "      <td>0.0</td>\n",
       "      <td>5.000</td>\n",
       "      <td>3.0</td>\n",
       "      <td>NaN</td>\n",
       "    </tr>\n",
       "    <tr>\n",
       "      <th>3</th>\n",
       "      <td>tt0118589</td>\n",
       "      <td>0.0</td>\n",
       "      <td>/9NZAirJahVilTiDNCHLFcdkwkiy.jpg</td>\n",
       "      <td>NaN</td>\n",
       "      <td>22000000.0</td>\n",
       "      <td>[{'id': 18, 'name': 'Drama'}, {'id': 10402, 'n...</td>\n",
       "      <td>NaN</td>\n",
       "      <td>10696.0</td>\n",
       "      <td>en</td>\n",
       "      <td>Glitter</td>\n",
       "      <td>...</td>\n",
       "      <td>5271666.0</td>\n",
       "      <td>104.0</td>\n",
       "      <td>[{'english_name': 'English', 'iso_639_1': 'en'...</td>\n",
       "      <td>Released</td>\n",
       "      <td>In music she found her dream, her love, herself.</td>\n",
       "      <td>Glitter</td>\n",
       "      <td>0.0</td>\n",
       "      <td>4.405</td>\n",
       "      <td>132.0</td>\n",
       "      <td>PG-13</td>\n",
       "    </tr>\n",
       "    <tr>\n",
       "      <th>4</th>\n",
       "      <td>tt0118652</td>\n",
       "      <td>0.0</td>\n",
       "      <td>/mWxJEFRMvkG4UItYJkRDMgWQ08Y.jpg</td>\n",
       "      <td>NaN</td>\n",
       "      <td>1000000.0</td>\n",
       "      <td>[{'id': 27, 'name': 'Horror'}, {'id': 9648, 'n...</td>\n",
       "      <td>NaN</td>\n",
       "      <td>17140.0</td>\n",
       "      <td>en</td>\n",
       "      <td>The Attic Expeditions</td>\n",
       "      <td>...</td>\n",
       "      <td>0.0</td>\n",
       "      <td>100.0</td>\n",
       "      <td>[{'english_name': 'English', 'iso_639_1': 'en'...</td>\n",
       "      <td>Released</td>\n",
       "      <td>His search for peace of mind... will leave his...</td>\n",
       "      <td>The Attic Expeditions</td>\n",
       "      <td>0.0</td>\n",
       "      <td>5.156</td>\n",
       "      <td>32.0</td>\n",
       "      <td>R</td>\n",
       "    </tr>\n",
       "  </tbody>\n",
       "</table>\n",
       "<p>5 rows × 26 columns</p>\n",
       "</div>"
      ],
      "text/plain": [
       "     imdb_id  adult                     backdrop_path belongs_to_collection  \\\n",
       "0          0    NaN                               NaN                   NaN   \n",
       "1  tt0035423    0.0  /tJLV3BAlHOgscVOrA99Wnb2gAef.jpg                   NaN   \n",
       "2  tt0114447    0.0                               NaN                   NaN   \n",
       "3  tt0118589    0.0  /9NZAirJahVilTiDNCHLFcdkwkiy.jpg                   NaN   \n",
       "4  tt0118652    0.0  /mWxJEFRMvkG4UItYJkRDMgWQ08Y.jpg                   NaN   \n",
       "\n",
       "       budget                                             genres homepage  \\\n",
       "0         NaN                                                NaN      NaN   \n",
       "1  48000000.0  [{'id': 10749, 'name': 'Romance'}, {'id': 14, ...      NaN   \n",
       "2         0.0  [{'id': 53, 'name': 'Thriller'}, {'id': 28, 'n...      NaN   \n",
       "3  22000000.0  [{'id': 18, 'name': 'Drama'}, {'id': 10402, 'n...      NaN   \n",
       "4   1000000.0  [{'id': 27, 'name': 'Horror'}, {'id': 9648, 'n...      NaN   \n",
       "\n",
       "         id original_language         original_title  ...     revenue  \\\n",
       "0       NaN               NaN                    NaN  ...         NaN   \n",
       "1   11232.0                en         Kate & Leopold  ...  76019048.0   \n",
       "2  151007.0                en       The Silent Force  ...         0.0   \n",
       "3   10696.0                en                Glitter  ...   5271666.0   \n",
       "4   17140.0                en  The Attic Expeditions  ...         0.0   \n",
       "\n",
       "   runtime                                   spoken_languages    status  \\\n",
       "0      NaN                                                NaN       NaN   \n",
       "1    118.0  [{'english_name': 'French', 'iso_639_1': 'fr',...  Released   \n",
       "2     90.0  [{'english_name': 'English', 'iso_639_1': 'en'...  Released   \n",
       "3    104.0  [{'english_name': 'English', 'iso_639_1': 'en'...  Released   \n",
       "4    100.0  [{'english_name': 'English', 'iso_639_1': 'en'...  Released   \n",
       "\n",
       "                                             tagline                  title  \\\n",
       "0                                                NaN                    NaN   \n",
       "1  If they lived in the same century, they'd be p...         Kate & Leopold   \n",
       "2  They left him for dead... They should have fin...       The Silent Force   \n",
       "3   In music she found her dream, her love, herself.                Glitter   \n",
       "4  His search for peace of mind... will leave his...  The Attic Expeditions   \n",
       "\n",
       "   video  vote_average vote_count certification  \n",
       "0    NaN           NaN        NaN           NaN  \n",
       "1    0.0         6.323     1242.0         PG-13  \n",
       "2    0.0         5.000        3.0           NaN  \n",
       "3    0.0         4.405      132.0         PG-13  \n",
       "4    0.0         5.156       32.0             R  \n",
       "\n",
       "[5 rows x 26 columns]"
      ]
     },
     "execution_count": 15,
     "metadata": {},
     "output_type": "execute_result"
    }
   ],
   "source": [
    "# Open saved file and preview again\n",
    "final_combo = pd.read_csv(\"Data/tmdb_results_combined.csv.gz\", low_memory = False)\n",
    "final_combo.head()"
   ]
  },
  {
   "cell_type": "code",
   "execution_count": 16,
   "id": "95cef40a",
   "metadata": {},
   "outputs": [
    {
     "name": "stdout",
     "output_type": "stream",
     "text": [
      "<class 'pandas.core.frame.DataFrame'>\n",
      "Int64Index: 18661 entries, 0 to 2755\n",
      "Data columns (total 26 columns):\n",
      " #   Column                 Non-Null Count  Dtype  \n",
      "---  ------                 --------------  -----  \n",
      " 0   imdb_id                18661 non-null  object \n",
      " 1   adult                  18660 non-null  float64\n",
      " 2   backdrop_path          10505 non-null  object \n",
      " 3   belongs_to_collection  1405 non-null   object \n",
      " 4   budget                 18660 non-null  float64\n",
      " 5   genres                 18660 non-null  object \n",
      " 6   homepage               3548 non-null   object \n",
      " 7   id                     18660 non-null  float64\n",
      " 8   original_language      18660 non-null  object \n",
      " 9   original_title         18660 non-null  object \n",
      " 10  overview               18215 non-null  object \n",
      " 11  popularity             18660 non-null  float64\n",
      " 12  poster_path            16496 non-null  object \n",
      " 13  production_companies   18660 non-null  object \n",
      " 14  production_countries   18660 non-null  object \n",
      " 15  release_date           18300 non-null  object \n",
      " 16  revenue                18660 non-null  float64\n",
      " 17  runtime                18660 non-null  float64\n",
      " 18  spoken_languages       18660 non-null  object \n",
      " 19  status                 18660 non-null  object \n",
      " 20  tagline                7844 non-null   object \n",
      " 21  title                  18660 non-null  object \n",
      " 22  video                  18660 non-null  float64\n",
      " 23  vote_average           18660 non-null  float64\n",
      " 24  vote_count             18660 non-null  float64\n",
      " 25  certification          5382 non-null   object \n",
      "dtypes: float64(9), object(17)\n",
      "memory usage: 3.8+ MB\n"
     ]
    }
   ],
   "source": [
    "df.info()"
   ]
  },
  {
   "cell_type": "markdown",
   "id": "91404662",
   "metadata": {},
   "source": [
    "## Data was collected from TMBD\n",
    "https://www.themoviedb.org/about/logos-attribution"
   ]
  }
 ],
 "metadata": {
  "kernelspec": {
   "display_name": "Python 3 (ipykernel)",
   "language": "python",
   "name": "python3"
  },
  "language_info": {
   "codemirror_mode": {
    "name": "ipython",
    "version": 3
   },
   "file_extension": ".py",
   "mimetype": "text/x-python",
   "name": "python",
   "nbconvert_exporter": "python",
   "pygments_lexer": "ipython3",
   "version": "3.9.15"
  },
  "toc": {
   "base_numbering": 1,
   "nav_menu": {},
   "number_sections": false,
   "sideBar": true,
   "skip_h1_title": false,
   "title_cell": "Table of Contents",
   "title_sidebar": "Contents",
   "toc_cell": false,
   "toc_position": {},
   "toc_section_display": true,
   "toc_window_display": false
  }
 },
 "nbformat": 4,
 "nbformat_minor": 5
}
