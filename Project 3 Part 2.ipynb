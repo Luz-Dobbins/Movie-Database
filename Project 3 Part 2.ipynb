{
 "cells": [
  {
   "cell_type": "markdown",
   "id": "3343823f",
   "metadata": {},
   "source": [
    "# Part 2.b"
   ]
  },
  {
   "cell_type": "code",
   "execution_count": 1,
   "id": "d127f707",
   "metadata": {},
   "outputs": [],
   "source": [
    "import pandas as pd\n",
    "import numpy as np\n",
    "import seaborn as sns"
   ]
  },
  {
   "cell_type": "markdown",
   "id": "e0739b73",
   "metadata": {},
   "source": [
    "### Concatenate the data into 1 dataframe for the remainder of the analysis."
   ]
  },
  {
   "cell_type": "code",
   "execution_count": 2,
   "id": "3be03b6a",
   "metadata": {},
   "outputs": [],
   "source": [
    "year_2000 = pd.read_csv('Data/final_tmdb_data_2000.csv.gz')\n",
    "year_2001 = pd.read_csv('Data/final_tmdb_data_2001.csv.gz')"
   ]
  },
  {
   "cell_type": "code",
   "execution_count": 3,
   "id": "17341a89",
   "metadata": {},
   "outputs": [
    {
     "data": {
      "text/html": [
       "<div>\n",
       "<style scoped>\n",
       "    .dataframe tbody tr th:only-of-type {\n",
       "        vertical-align: middle;\n",
       "    }\n",
       "\n",
       "    .dataframe tbody tr th {\n",
       "        vertical-align: top;\n",
       "    }\n",
       "\n",
       "    .dataframe thead th {\n",
       "        text-align: right;\n",
       "    }\n",
       "</style>\n",
       "<table border=\"1\" class=\"dataframe\">\n",
       "  <thead>\n",
       "    <tr style=\"text-align: right;\">\n",
       "      <th></th>\n",
       "      <th>imdb_id</th>\n",
       "      <th>adult</th>\n",
       "      <th>backdrop_path</th>\n",
       "      <th>belongs_to_collection</th>\n",
       "      <th>budget</th>\n",
       "      <th>genres</th>\n",
       "      <th>homepage</th>\n",
       "      <th>id</th>\n",
       "      <th>original_language</th>\n",
       "      <th>original_title</th>\n",
       "      <th>...</th>\n",
       "      <th>revenue</th>\n",
       "      <th>runtime</th>\n",
       "      <th>spoken_languages</th>\n",
       "      <th>status</th>\n",
       "      <th>tagline</th>\n",
       "      <th>title</th>\n",
       "      <th>video</th>\n",
       "      <th>vote_average</th>\n",
       "      <th>vote_count</th>\n",
       "      <th>certification</th>\n",
       "    </tr>\n",
       "  </thead>\n",
       "  <tbody>\n",
       "    <tr>\n",
       "      <th>0</th>\n",
       "      <td>0</td>\n",
       "      <td>NaN</td>\n",
       "      <td>NaN</td>\n",
       "      <td>NaN</td>\n",
       "      <td>NaN</td>\n",
       "      <td>NaN</td>\n",
       "      <td>NaN</td>\n",
       "      <td>NaN</td>\n",
       "      <td>NaN</td>\n",
       "      <td>NaN</td>\n",
       "      <td>...</td>\n",
       "      <td>NaN</td>\n",
       "      <td>NaN</td>\n",
       "      <td>NaN</td>\n",
       "      <td>NaN</td>\n",
       "      <td>NaN</td>\n",
       "      <td>NaN</td>\n",
       "      <td>NaN</td>\n",
       "      <td>NaN</td>\n",
       "      <td>NaN</td>\n",
       "      <td>NaN</td>\n",
       "    </tr>\n",
       "    <tr>\n",
       "      <th>1</th>\n",
       "      <td>tt1361336</td>\n",
       "      <td>0.0</td>\n",
       "      <td>/9ns9463dwOeo1CK1JU2wirL5Yi1.jpg</td>\n",
       "      <td>{'id': 1118731, 'name': 'Tom and Jerry Collect...</td>\n",
       "      <td>50000000.0</td>\n",
       "      <td>[{'id': 35, 'name': 'Comedy'}, {'id': 10751, '...</td>\n",
       "      <td>https://www.tomandjerrymovie.com</td>\n",
       "      <td>587807.0</td>\n",
       "      <td>en</td>\n",
       "      <td>Tom &amp; Jerry</td>\n",
       "      <td>...</td>\n",
       "      <td>136536687.0</td>\n",
       "      <td>101.0</td>\n",
       "      <td>[{'english_name': 'English', 'iso_639_1': 'en'...</td>\n",
       "      <td>Released</td>\n",
       "      <td>Best of enemies. Worst of friends.</td>\n",
       "      <td>Tom &amp; Jerry</td>\n",
       "      <td>0.0</td>\n",
       "      <td>6.897</td>\n",
       "      <td>2213.0</td>\n",
       "      <td>PG</td>\n",
       "    </tr>\n",
       "    <tr>\n",
       "      <th>2</th>\n",
       "      <td>tt1361336</td>\n",
       "      <td>0.0</td>\n",
       "      <td>/9ns9463dwOeo1CK1JU2wirL5Yi1.jpg</td>\n",
       "      <td>{'id': 1118731, 'name': 'Tom and Jerry Collect...</td>\n",
       "      <td>50000000.0</td>\n",
       "      <td>[{'id': 35, 'name': 'Comedy'}, {'id': 10751, '...</td>\n",
       "      <td>https://www.tomandjerrymovie.com</td>\n",
       "      <td>587807.0</td>\n",
       "      <td>en</td>\n",
       "      <td>Tom &amp; Jerry</td>\n",
       "      <td>...</td>\n",
       "      <td>136536687.0</td>\n",
       "      <td>101.0</td>\n",
       "      <td>[{'english_name': 'English', 'iso_639_1': 'en'...</td>\n",
       "      <td>Released</td>\n",
       "      <td>Best of enemies. Worst of friends.</td>\n",
       "      <td>Tom &amp; Jerry</td>\n",
       "      <td>0.0</td>\n",
       "      <td>6.897</td>\n",
       "      <td>2213.0</td>\n",
       "      <td>PG</td>\n",
       "    </tr>\n",
       "    <tr>\n",
       "      <th>3</th>\n",
       "      <td>tt1361336</td>\n",
       "      <td>0.0</td>\n",
       "      <td>/9ns9463dwOeo1CK1JU2wirL5Yi1.jpg</td>\n",
       "      <td>{'id': 1118731, 'name': 'Tom and Jerry Collect...</td>\n",
       "      <td>50000000.0</td>\n",
       "      <td>[{'id': 35, 'name': 'Comedy'}, {'id': 10751, '...</td>\n",
       "      <td>https://www.tomandjerrymovie.com</td>\n",
       "      <td>587807.0</td>\n",
       "      <td>en</td>\n",
       "      <td>Tom &amp; Jerry</td>\n",
       "      <td>...</td>\n",
       "      <td>136536687.0</td>\n",
       "      <td>101.0</td>\n",
       "      <td>[{'english_name': 'English', 'iso_639_1': 'en'...</td>\n",
       "      <td>Released</td>\n",
       "      <td>Best of enemies. Worst of friends.</td>\n",
       "      <td>Tom &amp; Jerry</td>\n",
       "      <td>0.0</td>\n",
       "      <td>6.897</td>\n",
       "      <td>2213.0</td>\n",
       "      <td>PG</td>\n",
       "    </tr>\n",
       "    <tr>\n",
       "      <th>4</th>\n",
       "      <td>tt1361336</td>\n",
       "      <td>0.0</td>\n",
       "      <td>/9ns9463dwOeo1CK1JU2wirL5Yi1.jpg</td>\n",
       "      <td>{'id': 1118731, 'name': 'Tom and Jerry Collect...</td>\n",
       "      <td>50000000.0</td>\n",
       "      <td>[{'id': 35, 'name': 'Comedy'}, {'id': 10751, '...</td>\n",
       "      <td>https://www.tomandjerrymovie.com</td>\n",
       "      <td>587807.0</td>\n",
       "      <td>en</td>\n",
       "      <td>Tom &amp; Jerry</td>\n",
       "      <td>...</td>\n",
       "      <td>136536687.0</td>\n",
       "      <td>101.0</td>\n",
       "      <td>[{'english_name': 'English', 'iso_639_1': 'en'...</td>\n",
       "      <td>Released</td>\n",
       "      <td>Best of enemies. Worst of friends.</td>\n",
       "      <td>Tom &amp; Jerry</td>\n",
       "      <td>0.0</td>\n",
       "      <td>6.897</td>\n",
       "      <td>2213.0</td>\n",
       "      <td>PG</td>\n",
       "    </tr>\n",
       "  </tbody>\n",
       "</table>\n",
       "<p>5 rows × 26 columns</p>\n",
       "</div>"
      ],
      "text/plain": [
       "     imdb_id  adult                     backdrop_path  \\\n",
       "0          0    NaN                               NaN   \n",
       "1  tt1361336    0.0  /9ns9463dwOeo1CK1JU2wirL5Yi1.jpg   \n",
       "2  tt1361336    0.0  /9ns9463dwOeo1CK1JU2wirL5Yi1.jpg   \n",
       "3  tt1361336    0.0  /9ns9463dwOeo1CK1JU2wirL5Yi1.jpg   \n",
       "4  tt1361336    0.0  /9ns9463dwOeo1CK1JU2wirL5Yi1.jpg   \n",
       "\n",
       "                               belongs_to_collection      budget  \\\n",
       "0                                                NaN         NaN   \n",
       "1  {'id': 1118731, 'name': 'Tom and Jerry Collect...  50000000.0   \n",
       "2  {'id': 1118731, 'name': 'Tom and Jerry Collect...  50000000.0   \n",
       "3  {'id': 1118731, 'name': 'Tom and Jerry Collect...  50000000.0   \n",
       "4  {'id': 1118731, 'name': 'Tom and Jerry Collect...  50000000.0   \n",
       "\n",
       "                                              genres  \\\n",
       "0                                                NaN   \n",
       "1  [{'id': 35, 'name': 'Comedy'}, {'id': 10751, '...   \n",
       "2  [{'id': 35, 'name': 'Comedy'}, {'id': 10751, '...   \n",
       "3  [{'id': 35, 'name': 'Comedy'}, {'id': 10751, '...   \n",
       "4  [{'id': 35, 'name': 'Comedy'}, {'id': 10751, '...   \n",
       "\n",
       "                           homepage        id original_language  \\\n",
       "0                               NaN       NaN               NaN   \n",
       "1  https://www.tomandjerrymovie.com  587807.0                en   \n",
       "2  https://www.tomandjerrymovie.com  587807.0                en   \n",
       "3  https://www.tomandjerrymovie.com  587807.0                en   \n",
       "4  https://www.tomandjerrymovie.com  587807.0                en   \n",
       "\n",
       "  original_title  ...      revenue  runtime  \\\n",
       "0            NaN  ...          NaN      NaN   \n",
       "1    Tom & Jerry  ...  136536687.0    101.0   \n",
       "2    Tom & Jerry  ...  136536687.0    101.0   \n",
       "3    Tom & Jerry  ...  136536687.0    101.0   \n",
       "4    Tom & Jerry  ...  136536687.0    101.0   \n",
       "\n",
       "                                    spoken_languages    status  \\\n",
       "0                                                NaN       NaN   \n",
       "1  [{'english_name': 'English', 'iso_639_1': 'en'...  Released   \n",
       "2  [{'english_name': 'English', 'iso_639_1': 'en'...  Released   \n",
       "3  [{'english_name': 'English', 'iso_639_1': 'en'...  Released   \n",
       "4  [{'english_name': 'English', 'iso_639_1': 'en'...  Released   \n",
       "\n",
       "                              tagline        title  video  vote_average  \\\n",
       "0                                 NaN          NaN    NaN           NaN   \n",
       "1  Best of enemies. Worst of friends.  Tom & Jerry    0.0         6.897   \n",
       "2  Best of enemies. Worst of friends.  Tom & Jerry    0.0         6.897   \n",
       "3  Best of enemies. Worst of friends.  Tom & Jerry    0.0         6.897   \n",
       "4  Best of enemies. Worst of friends.  Tom & Jerry    0.0         6.897   \n",
       "\n",
       "  vote_count certification  \n",
       "0        NaN           NaN  \n",
       "1     2213.0            PG  \n",
       "2     2213.0            PG  \n",
       "3     2213.0            PG  \n",
       "4     2213.0            PG  \n",
       "\n",
       "[5 rows x 26 columns]"
      ]
     },
     "execution_count": 3,
     "metadata": {},
     "output_type": "execute_result"
    }
   ],
   "source": [
    "df = pd.concat([year_2000, year_2001])\n",
    "df.head()"
   ]
  },
  {
   "cell_type": "code",
   "execution_count": 4,
   "id": "ed13869c",
   "metadata": {},
   "outputs": [
    {
     "name": "stdout",
     "output_type": "stream",
     "text": [
      "<class 'pandas.core.frame.DataFrame'>\n",
      "Int64Index: 18226 entries, 0 to 7782\n",
      "Data columns (total 26 columns):\n",
      " #   Column                 Non-Null Count  Dtype  \n",
      "---  ------                 --------------  -----  \n",
      " 0   imdb_id                18226 non-null  object \n",
      " 1   adult                  18224 non-null  float64\n",
      " 2   backdrop_path          15774 non-null  object \n",
      " 3   belongs_to_collection  8477 non-null   object \n",
      " 4   budget                 18224 non-null  float64\n",
      " 5   genres                 18224 non-null  object \n",
      " 6   homepage               13935 non-null  object \n",
      " 7   id                     18224 non-null  float64\n",
      " 8   original_language      18224 non-null  object \n",
      " 9   original_title         18224 non-null  object \n",
      " 10  overview               17878 non-null  object \n",
      " 11  popularity             18224 non-null  float64\n",
      " 12  poster_path            17597 non-null  object \n",
      " 13  production_companies   18224 non-null  object \n",
      " 14  production_countries   18224 non-null  object \n",
      " 15  release_date           18183 non-null  object \n",
      " 16  revenue                18224 non-null  float64\n",
      " 17  runtime                18224 non-null  float64\n",
      " 18  spoken_languages       18224 non-null  object \n",
      " 19  status                 18224 non-null  object \n",
      " 20  tagline                15001 non-null  object \n",
      " 21  title                  18224 non-null  object \n",
      " 22  video                  18224 non-null  float64\n",
      " 23  vote_average           18224 non-null  float64\n",
      " 24  vote_count             18224 non-null  float64\n",
      " 25  certification          14544 non-null  object \n",
      "dtypes: float64(9), object(17)\n",
      "memory usage: 3.8+ MB\n"
     ]
    }
   ],
   "source": [
    "df.info()"
   ]
  },
  {
   "cell_type": "code",
   "execution_count": 5,
   "id": "b2b3d7e2",
   "metadata": {},
   "outputs": [
    {
     "data": {
      "text/plain": [
       "13704"
      ]
     },
     "execution_count": 5,
     "metadata": {},
     "output_type": "execute_result"
    }
   ],
   "source": [
    "df.duplicated().sum()"
   ]
  },
  {
   "cell_type": "code",
   "execution_count": 6,
   "id": "81920bd2",
   "metadata": {},
   "outputs": [],
   "source": [
    "df.drop_duplicates(inplace=True)"
   ]
  },
  {
   "cell_type": "markdown",
   "id": "f756ab7b",
   "metadata": {},
   "source": [
    "### How many movies had at least some valid financial information (values > 0 for budget OR revenue)?"
   ]
  },
  {
   "cell_type": "code",
   "execution_count": 7,
   "id": "2cf95563",
   "metadata": {},
   "outputs": [],
   "source": [
    "# budget = df['budget'] > 0\n",
    "# revenue = df['revenue'] > 0\n",
    "# financial_filter = df.loc[budget | revenue]"
   ]
  },
  {
   "cell_type": "code",
   "execution_count": 8,
   "id": "3168555b",
   "metadata": {},
   "outputs": [
    {
     "data": {
      "text/plain": [
       "False    3780\n",
       "True      742\n",
       "dtype: int64"
      ]
     },
     "execution_count": 8,
     "metadata": {},
     "output_type": "execute_result"
    }
   ],
   "source": [
    "filter_financial = (df['budget'] > 0) | (df['revenue']>0)\n",
    "filter_financial.value_counts()"
   ]
  },
  {
   "cell_type": "code",
   "execution_count": 9,
   "id": "bcb66674",
   "metadata": {},
   "outputs": [],
   "source": [
    "plot_df = df[filter_financial].copy()"
   ]
  },
  {
   "cell_type": "markdown",
   "id": "23b827f0",
   "metadata": {},
   "source": [
    "### How many movies are there in each of the certification categories (G/PG/PG-13/R)?"
   ]
  },
  {
   "cell_type": "code",
   "execution_count": 10,
   "id": "c964a3ee",
   "metadata": {},
   "outputs": [],
   "source": [
    "## to order them (optional)\n",
    "cert_order = ['G','PG','PG-13','R','NR']"
   ]
  },
  {
   "cell_type": "code",
   "execution_count": 11,
   "id": "a8e128dd",
   "metadata": {},
   "outputs": [
    {
     "data": {
      "image/png": "[encoded data removed]",
      "text/plain": [
       "<Figure size 640x480 with 1 Axes>"
      ]
     },
     "metadata": {},
     "output_type": "display_data"
    }
   ],
   "source": [
    "sns.countplot(data=plot_df, x='certification',order=cert_order);"
   ]
  },
  {
   "cell_type": "markdown",
   "id": "69c54b6b",
   "metadata": {},
   "source": [
    "### What is the average revenue per certification category?"
   ]
  },
  {
   "cell_type": "code",
   "execution_count": 12,
   "id": "7d26876e",
   "metadata": {},
   "outputs": [
    {
     "data": {
      "text/plain": [
       "certification\n",
       "G          6.520264e+07\n",
       "NC-17      1.668286e+03\n",
       "NR         2.116980e+06\n",
       "PG         5.810079e+07\n",
       "PG-13      7.131692e+07\n",
       "R          1.583423e+07\n",
       "Unrated    0.000000e+00\n",
       "Name: revenue, dtype: float64"
      ]
     },
     "execution_count": 12,
     "metadata": {},
     "output_type": "execute_result"
    }
   ],
   "source": [
    "df.groupby(['certification'])['revenue'].apply(lambda x:x.mean())"
   ]
  },
  {
   "cell_type": "markdown",
   "id": "1707677a",
   "metadata": {},
   "source": [
    "### What is the average budget per certification category?"
   ]
  },
  {
   "cell_type": "code",
   "execution_count": 13,
   "id": "c58acb92",
   "metadata": {},
   "outputs": [
    {
     "data": {
      "text/plain": [
       "certification\n",
       "G          2.123532e+07\n",
       "NC-17      0.000000e+00\n",
       "NR         1.391430e+06\n",
       "PG         2.346373e+07\n",
       "PG-13      3.076988e+07\n",
       "R          9.577320e+06\n",
       "Unrated    0.000000e+00\n",
       "Name: budget, dtype: float64"
      ]
     },
     "execution_count": 13,
     "metadata": {},
     "output_type": "execute_result"
    }
   ],
   "source": [
    "bud = df.groupby(['certification'])['budget'].apply(lambda x:x.mean())\n",
    "bud"
   ]
  },
  {
   "cell_type": "markdown",
   "id": "91404662",
   "metadata": {},
   "source": [
    "## Data was collected from TMBD\n",
    "https://www.themoviedb.org/about/logos-attribution"
   ]
  }
 ],
 "metadata": {
  "kernelspec": {
   "display_name": "Python 3 (ipykernel)",
   "language": "python",
   "name": "python3"
  },
  "language_info": {
   "codemirror_mode": {
    "name": "ipython",
    "version": 3
   },
   "file_extension": ".py",
   "mimetype": "text/x-python",
   "name": "python",
   "nbconvert_exporter": "python",
   "pygments_lexer": "ipython3",
   "version": "3.9.15"
  },
  "toc": {
   "base_numbering": 1,
   "nav_menu": {},
   "number_sections": false,
   "sideBar": true,
   "skip_h1_title": false,
   "title_cell": "Table of Contents",
   "title_sidebar": "Contents",
   "toc_cell": false,
   "toc_position": {},
   "toc_section_display": true,
   "toc_window_display": false
  }
 },
 "nbformat": 4,
 "nbformat_minor": 5
}
