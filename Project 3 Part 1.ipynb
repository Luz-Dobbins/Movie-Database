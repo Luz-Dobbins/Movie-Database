{
 "cells": [
  {
   "cell_type": "markdown",
   "id": "12a90ed2",
   "metadata": {},
   "source": [
    "# Part 1"
   ]
  },
  {
   "cell_type": "markdown",
   "id": "2d0e1ad8",
   "metadata": {},
   "source": [
    "## Filtering/Cleaning"
   ]
  },
  {
   "cell_type": "code",
   "execution_count": 1,
   "id": "d4b9c0c5",
   "metadata": {},
   "outputs": [],
   "source": [
    "import pandas as pd\n",
    "import numpy as np"
   ]
  },
  {
   "cell_type": "markdown",
   "id": "9c41036d",
   "metadata": {},
   "source": [
    "### Title Basics"
   ]
  },
  {
   "cell_type": "code",
   "execution_count": 2,
   "id": "d5581104",
   "metadata": {},
   "outputs": [],
   "source": [
    "basics_url=\"https://datasets.imdbws.com/title.basics.tsv.gz\"\n",
    "basics = pd.read_csv(basics_url, sep='\\t', low_memory=False)"
   ]
  },
  {
   "cell_type": "code",
   "execution_count": null,
   "id": "2d32dcb1",
   "metadata": {
    "scrolled": true
   },
   "outputs": [],
   "source": [
    "basics.info()"
   ]
  },
  {
   "cell_type": "code",
   "execution_count": null,
   "id": "1c465b26",
   "metadata": {},
   "outputs": [],
   "source": [
    "basics.head()"
   ]
  },
  {
   "cell_type": "code",
   "execution_count": null,
   "id": "4ba5048a",
   "metadata": {},
   "outputs": [],
   "source": [
    "# Change tconst to imdb id\n",
    "basics =basics.rename(colums={'tconst':'imdb id'})\n",
    "basics.info()"
   ]
  },
  {
   "cell_type": "markdown",
   "id": "694805df",
   "metadata": {},
   "source": [
    "#### Replace \"\\N\" with np.nan"
   ]
  },
  {
   "cell_type": "code",
   "execution_count": null,
   "id": "063d7b65",
   "metadata": {},
   "outputs": [],
   "source": [
    "basics['runtimeMinutes']= basics['runtimeMinutes'].replace('')"
   ]
  },
  {
   "cell_type": "code",
   "execution_count": null,
   "id": "feabca9e",
   "metadata": {},
   "outputs": [],
   "source": [
    "basics = basics.replace({'\\\\N':np.nan})"
   ]
  },
  {
   "cell_type": "code",
   "execution_count": null,
   "id": "82bc398b",
   "metadata": {},
   "outputs": [],
   "source": [
    "basics.info()"
   ]
  },
  {
   "cell_type": "code",
   "execution_count": null,
   "id": "21355e9f",
   "metadata": {},
   "outputs": [],
   "source": [
    "basics.head()"
   ]
  },
  {
   "cell_type": "markdown",
   "id": "4a9c443e",
   "metadata": {},
   "source": [
    "#### Eliminate movies that are null for runtimeMinutes and genre"
   ]
  },
  {
   "cell_type": "code",
   "execution_count": null,
   "id": "9d309e81",
   "metadata": {},
   "outputs": [],
   "source": [
    "basics.dropna(subset =['runtimeMinutes','genres'], inplace= True)"
   ]
  },
  {
   "cell_type": "code",
   "execution_count": null,
   "id": "d94ebe28",
   "metadata": {},
   "outputs": [],
   "source": [
    "basics.head()"
   ]
  },
  {
   "cell_type": "markdown",
   "id": "b42a8718",
   "metadata": {},
   "source": [
    "#### Keep only titleType == Movie"
   ]
  },
  {
   "cell_type": "code",
   "execution_count": null,
   "id": "7af1e144",
   "metadata": {},
   "outputs": [],
   "source": [
    "basics_mov = basics[basics['titleType']== 'movie']\n",
    "basics_mov.head()"
   ]
  },
  {
   "cell_type": "markdown",
   "id": "9235d18a",
   "metadata": {},
   "source": [
    "#### keep startYear 2000-2022"
   ]
  },
  {
   "cell_type": "code",
   "execution_count": null,
   "id": "b26111ae",
   "metadata": {},
   "outputs": [],
   "source": [
    "basics_mov['startYear'].value_counts()"
   ]
  },
  {
   "cell_type": "code",
   "execution_count": null,
   "id": "e791bedb",
   "metadata": {},
   "outputs": [],
   "source": [
    "basics_mov = basics_mov.astype({\"startYear\": float})\n",
    "basics_mov.info()"
   ]
  },
  {
   "cell_type": "code",
   "execution_count": null,
   "id": "51dafa15",
   "metadata": {},
   "outputs": [],
   "source": [
    "basics_year = basics_mov.loc[(basics_mov['startYear'] >= 2000) & (basics_mov['startYear'] <= 2022)]\n",
    "basics_year"
   ]
  },
  {
   "cell_type": "markdown",
   "id": "98f55adb",
   "metadata": {},
   "source": [
    "#### Eliminate movies that include \"Documentary\" in genre "
   ]
  },
  {
   "cell_type": "code",
   "execution_count": null,
   "id": "fc304574",
   "metadata": {},
   "outputs": [],
   "source": [
    "doc = basics_year['genres'].str.contains('Documentary',case=False)\n",
    "basics_doc = basics_year[~doc]"
   ]
  },
  {
   "cell_type": "code",
   "execution_count": null,
   "id": "f5af3768",
   "metadata": {},
   "outputs": [],
   "source": [
    "basics_doc.head()"
   ]
  },
  {
   "cell_type": "code",
   "execution_count": null,
   "id": "72e2073b",
   "metadata": {
    "scrolled": true
   },
   "outputs": [],
   "source": [
    "basics_doc.info()"
   ]
  },
  {
   "cell_type": "markdown",
   "id": "56162de7",
   "metadata": {},
   "source": [
    "### AKA"
   ]
  },
  {
   "cell_type": "markdown",
   "id": "e383413a",
   "metadata": {},
   "source": [
    "#### keep only US movies"
   ]
  },
  {
   "cell_type": "code",
   "execution_count": null,
   "id": "27761e53",
   "metadata": {},
   "outputs": [],
   "source": [
    "akas_url=\"https://datasets.imdbws.com/title.akas.tsv.gz\"\n",
    "akas = pd.read_csv(akas_url, sep='\\t', low_memory=False)"
   ]
  },
  {
   "cell_type": "code",
   "execution_count": null,
   "id": "b6372059",
   "metadata": {},
   "outputs": [],
   "source": [
    "akas.head()"
   ]
  },
  {
   "cell_type": "code",
   "execution_count": null,
   "id": "889a7994",
   "metadata": {},
   "outputs": [],
   "source": [
    "akas_us = akas[akas['region']== 'US']\n",
    "akas_us.head()"
   ]
  },
  {
   "cell_type": "markdown",
   "id": "c0252e07",
   "metadata": {},
   "source": [
    "#### Replace '\\N' with np.nan"
   ]
  },
  {
   "cell_type": "code",
   "execution_count": null,
   "id": "03e430ea",
   "metadata": {},
   "outputs": [],
   "source": [
    "akas_us = akas_us.replace({'\\\\N':np.nan})"
   ]
  },
  {
   "cell_type": "code",
   "execution_count": null,
   "id": "56890223",
   "metadata": {},
   "outputs": [],
   "source": [
    "akas_us.head()"
   ]
  },
  {
   "cell_type": "code",
   "execution_count": null,
   "id": "90a64fc7",
   "metadata": {},
   "outputs": [],
   "source": [
    "akas_us.info()"
   ]
  },
  {
   "cell_type": "markdown",
   "id": "437d0177",
   "metadata": {},
   "source": [
    "### Ratings"
   ]
  },
  {
   "cell_type": "code",
   "execution_count": null,
   "id": "714879c7",
   "metadata": {},
   "outputs": [],
   "source": [
    "ratings_url=\"https://datasets.imdbws.com/title.ratings.tsv.gz\"\n",
    "ratings = pd.read_csv(ratings_url, sep='\\t', low_memory=False)"
   ]
  },
  {
   "cell_type": "code",
   "execution_count": null,
   "id": "e9803bd8",
   "metadata": {},
   "outputs": [],
   "source": [
    "ratings.head()"
   ]
  },
  {
   "cell_type": "markdown",
   "id": "05a3fe34",
   "metadata": {},
   "source": [
    "#### Replace '\\N' with np.nan"
   ]
  },
  {
   "cell_type": "code",
   "execution_count": null,
   "id": "4bdeb6b9",
   "metadata": {},
   "outputs": [],
   "source": [
    "ratings = ratings.replace({'\\\\N':np.nan})"
   ]
  },
  {
   "cell_type": "code",
   "execution_count": null,
   "id": "44ca8152",
   "metadata": {},
   "outputs": [],
   "source": [
    "ratings.info()"
   ]
  },
  {
   "cell_type": "markdown",
   "id": "b2392de5",
   "metadata": {},
   "source": [
    "### Filtered one dataset with another"
   ]
  },
  {
   "cell_type": "markdown",
   "id": "652e30cf",
   "metadata": {},
   "source": [
    "#### Basics"
   ]
  },
  {
   "cell_type": "code",
   "execution_count": null,
   "id": "aa580c0a",
   "metadata": {},
   "outputs": [],
   "source": [
    "# Filter the basics table down to only include the US by using the filter akas dataframe\n",
    "keepers1 =basics_doc['tconst'].isin(akas_us['titleId'])\n",
    "keepers1"
   ]
  },
  {
   "cell_type": "code",
   "execution_count": null,
   "id": "15cd4c53",
   "metadata": {},
   "outputs": [],
   "source": [
    "basics_a = basics_doc.loc[keepers1]\n",
    "basics_a"
   ]
  },
  {
   "cell_type": "markdown",
   "id": "00ce511b",
   "metadata": {},
   "source": [
    "#### Ratings"
   ]
  },
  {
   "cell_type": "code",
   "execution_count": null,
   "id": "aa1cb7bd",
   "metadata": {},
   "outputs": [],
   "source": [
    "# Filter the basics table down to only include the US by using the filter akas dataframe\n",
    "keepers =ratings['tconst'].isin(akas_us['titleId'])\n",
    "keepers"
   ]
  },
  {
   "cell_type": "code",
   "execution_count": null,
   "id": "85859ad5",
   "metadata": {},
   "outputs": [],
   "source": [
    "basics_n = ratings.loc[keepers]\n",
    "basics_n"
   ]
  },
  {
   "cell_type": "markdown",
   "id": "2b08cc26",
   "metadata": {},
   "source": [
    "## Export data"
   ]
  },
  {
   "cell_type": "code",
   "execution_count": null,
   "id": "2557c702",
   "metadata": {},
   "outputs": [],
   "source": [
    "## Save current dataframe to file.\n",
    "basics_a.to_csv(\"Data/title_basics.csv.gz\",compression='gzip',index=False)"
   ]
  },
  {
   "cell_type": "code",
   "execution_count": null,
   "id": "314d7d71",
   "metadata": {},
   "outputs": [],
   "source": [
    "basics_f = pd.read_csv(\"Data/title_basics.csv.gz\", low_memory = False)\n",
    "basics_f.head()"
   ]
  },
  {
   "cell_type": "code",
   "execution_count": null,
   "id": "ad4278bc",
   "metadata": {},
   "outputs": [],
   "source": [
    "## Save current dataframe to file.\n",
    "akas_us.to_csv(\"Data/title_akas.csv.gz\",compression='gzip',index=False)"
   ]
  },
  {
   "cell_type": "code",
   "execution_count": null,
   "id": "7a0f152f",
   "metadata": {},
   "outputs": [],
   "source": [
    "# Open saved file and preview again\n",
    "akas_f = pd.read_csv(\"Data/title_akas.csv.gz\", low_memory = False)\n",
    "akas_f.head()"
   ]
  },
  {
   "cell_type": "code",
   "execution_count": null,
   "id": "3ab1c2c1",
   "metadata": {},
   "outputs": [],
   "source": [
    "## Save current dataframe to file.\n",
    "basics_n.to_csv(\"Data/title_ratings.csv.gz\",compression='gzip',index=False)"
   ]
  },
  {
   "cell_type": "code",
   "execution_count": null,
   "id": "ec7bbb09",
   "metadata": {},
   "outputs": [],
   "source": [
    "# Open saved file and preview again\n",
    "ratings_f = pd.read_csv(\"Data/title_ratings.csv.gz\", low_memory = False)\n",
    "ratings_f.head()"
   ]
  },
  {
   "cell_type": "code",
   "execution_count": null,
   "id": "e48eeee5",
   "metadata": {},
   "outputs": [],
   "source": [
    "# example making new folder with os\n",
    "import os\n",
    "os.makedirs('Data/',exist_ok=True) \n",
    "# Confirm folder created\n",
    "os.listdir(\"Data/\")"
   ]
  },
  {
   "cell_type": "markdown",
   "id": "91404662",
   "metadata": {},
   "source": [
    "## Data was collected from TMBD\n",
    "https://www.themoviedb.org/about/logos-attribution"
   ]
  }
 ],
 "metadata": {
  "kernelspec": {
   "display_name": "Python 3 (ipykernel)",
   "language": "python",
   "name": "python3"
  },
  "language_info": {
   "codemirror_mode": {
    "name": "ipython",
    "version": 3
   },
   "file_extension": ".py",
   "mimetype": "text/x-python",
   "name": "python",
   "nbconvert_exporter": "python",
   "pygments_lexer": "ipython3",
   "version": "3.9.15"
  },
  "toc": {
   "base_numbering": 1,
   "nav_menu": {},
   "number_sections": false,
   "sideBar": true,
   "skip_h1_title": false,
   "title_cell": "Table of Contents",
   "title_sidebar": "Contents",
   "toc_cell": false,
   "toc_position": {},
   "toc_section_display": true,
   "toc_window_display": false
  }
 },
 "nbformat": 4,
 "nbformat_minor": 5
}
