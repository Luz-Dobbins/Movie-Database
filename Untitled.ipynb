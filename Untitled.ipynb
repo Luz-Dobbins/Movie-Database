{
 "cells": [
  {
   "cell_type": "markdown",
   "id": "06c1b0d8",
   "metadata": {},
   "source": [
    "## Basics data frame"
   ]
  },
  {
   "cell_type": "code",
   "execution_count": 1,
   "id": "a6d7652f",
   "metadata": {},
   "outputs": [
    {
     "name": "stdout",
     "output_type": "stream",
     "text": [
      "<class 'pandas.core.frame.DataFrame'>\n",
      "RangeIndex: 86707 entries, 0 to 86706\n",
      "Data columns (total 9 columns):\n",
      " #   Column          Non-Null Count  Dtype  \n",
      "---  ------          --------------  -----  \n",
      " 0   tconst          86707 non-null  object \n",
      " 1   titleType       86707 non-null  object \n",
      " 2   primaryTitle    86707 non-null  object \n",
      " 3   originalTitle   86707 non-null  object \n",
      " 4   isAdult         86707 non-null  int64  \n",
      " 5   startYear       86707 non-null  float64\n",
      " 6   endYear         0 non-null      float64\n",
      " 7   runtimeMinutes  86707 non-null  int64  \n",
      " 8   genres          86707 non-null  object \n",
      "dtypes: float64(2), int64(2), object(5)\n",
      "memory usage: 6.0+ MB\n"
     ]
    }
   ],
   "source": [
    "import pandas as pd\n",
    "# load data - change the path to match your drive!\n",
    "basics = pd.read_csv('Data/title_basics.csv.gz')\n",
    "basics.info()"
   ]
  },
  {
   "cell_type": "markdown",
   "id": "8f101557",
   "metadata": {},
   "source": [
    "### Removing unwanted columns from Basics"
   ]
  },
  {
   "cell_type": "code",
   "execution_count": 2,
   "id": "2e0b8069",
   "metadata": {},
   "outputs": [
    {
     "name": "stdout",
     "output_type": "stream",
     "text": [
      "<class 'pandas.core.frame.DataFrame'>\n",
      "RangeIndex: 86707 entries, 0 to 86706\n",
      "Data columns (total 5 columns):\n",
      " #   Column          Non-Null Count  Dtype  \n",
      "---  ------          --------------  -----  \n",
      " 0   tconst          86707 non-null  object \n",
      " 1   primaryTitle    86707 non-null  object \n",
      " 2   startYear       86707 non-null  float64\n",
      " 3   runtimeMinutes  86707 non-null  int64  \n",
      " 4   genres          86707 non-null  object \n",
      "dtypes: float64(1), int64(1), object(3)\n",
      "memory usage: 3.3+ MB\n"
     ]
    }
   ],
   "source": [
    "basics = basics.drop(columns=['titleType', 'originalTitle','isAdult','endYear'])\n",
    "basics.info()"
   ]
  },
  {
   "cell_type": "markdown",
   "id": "da861abd",
   "metadata": {},
   "source": [
    "## Ratings Dataframe"
   ]
  },
  {
   "cell_type": "code",
   "execution_count": 3,
   "id": "59a064b2",
   "metadata": {},
   "outputs": [
    {
     "name": "stdout",
     "output_type": "stream",
     "text": [
      "<class 'pandas.core.frame.DataFrame'>\n",
      "RangeIndex: 499155 entries, 0 to 499154\n",
      "Data columns (total 3 columns):\n",
      " #   Column         Non-Null Count   Dtype  \n",
      "---  ------         --------------   -----  \n",
      " 0   tconst         499155 non-null  object \n",
      " 1   averageRating  499155 non-null  float64\n",
      " 2   numVotes       499155 non-null  int64  \n",
      "dtypes: float64(1), int64(1), object(1)\n",
      "memory usage: 11.4+ MB\n"
     ]
    }
   ],
   "source": [
    "ratings = pd.read_csv('Data/title_ratings.csv.gz')\n",
    "ratings.head()\n",
    "ratings.info()"
   ]
  },
  {
   "cell_type": "markdown",
   "id": "888f9f7e",
   "metadata": {},
   "source": [
    "## TMDB_API Dataframe"
   ]
  },
  {
   "cell_type": "code",
   "execution_count": 8,
   "id": "9b91e384",
   "metadata": {},
   "outputs": [
    {
     "name": "stdout",
     "output_type": "stream",
     "text": [
      "<class 'pandas.core.frame.DataFrame'>\n",
      "RangeIndex: 2569 entries, 0 to 2568\n",
      "Data columns (total 26 columns):\n",
      " #   Column                 Non-Null Count  Dtype  \n",
      "---  ------                 --------------  -----  \n",
      " 0   imdb_id                2569 non-null   object \n",
      " 1   adult                  2568 non-null   float64\n",
      " 2   backdrop_path          1400 non-null   object \n",
      " 3   belongs_to_collection  205 non-null    object \n",
      " 4   budget                 2568 non-null   float64\n",
      " 5   genres                 2568 non-null   object \n",
      " 6   homepage               172 non-null    object \n",
      " 7   id                     2568 non-null   float64\n",
      " 8   original_language      2568 non-null   object \n",
      " 9   original_title         2568 non-null   object \n",
      " 10  overview               2518 non-null   object \n",
      " 11  popularity             2568 non-null   float64\n",
      " 12  poster_path            2310 non-null   object \n",
      " 13  production_companies   2568 non-null   object \n",
      " 14  production_countries   2568 non-null   object \n",
      " 15  release_date           2549 non-null   object \n",
      " 16  revenue                2568 non-null   float64\n",
      " 17  runtime                2568 non-null   float64\n",
      " 18  spoken_languages       2568 non-null   object \n",
      " 19  status                 2568 non-null   object \n",
      " 20  tagline                1103 non-null   object \n",
      " 21  title                  2568 non-null   object \n",
      " 22  video                  2568 non-null   float64\n",
      " 23  vote_average           2568 non-null   float64\n",
      " 24  vote_count             2568 non-null   float64\n",
      " 25  certification          816 non-null    object \n",
      "dtypes: float64(9), object(17)\n",
      "memory usage: 522.0+ KB\n"
     ]
    }
   ],
   "source": [
    "tmdb_api = pd.read_csv(\"Data/tmdb_results_combined.csv.gz\")\n",
    "tmdb_api.head()\n",
    "tmdb_api.info()"
   ]
  },
  {
   "cell_type": "markdown",
   "id": "9aaddf46",
   "metadata": {},
   "source": [
    "### remove unwanted columns"
   ]
  },
  {
   "cell_type": "code",
   "execution_count": 9,
   "id": "17802aa1",
   "metadata": {},
   "outputs": [
    {
     "name": "stdout",
     "output_type": "stream",
     "text": [
      "<class 'pandas.core.frame.DataFrame'>\n",
      "RangeIndex: 2569 entries, 0 to 2568\n",
      "Data columns (total 4 columns):\n",
      " #   Column         Non-Null Count  Dtype  \n",
      "---  ------         --------------  -----  \n",
      " 0   imdb_id        2569 non-null   object \n",
      " 1   budget         2568 non-null   float64\n",
      " 2   revenue        2568 non-null   float64\n",
      " 3   certification  816 non-null    object \n",
      "dtypes: float64(2), object(2)\n",
      "memory usage: 80.4+ KB\n"
     ]
    }
   ],
   "source": [
    "tmdb_api = tmdb_api.drop(columns=['adult', 'backdrop_path', 'belongs_to_collection', 'genres','homepage', 'id',\n",
    "                                  'original_language', 'original_title', 'overview','popularity','poster_path',\n",
    "                                  'production_companies', 'production_countries','release_date','runtime','spoken_languages',\n",
    "                                  'status','tagline','title','video','vote_average','vote_count'])\n",
    "tmdb_api.info()"
   ]
  },
  {
   "cell_type": "code",
   "execution_count": 10,
   "id": "9e06292e",
   "metadata": {},
   "outputs": [
    {
     "data": {
      "text/html": [
       "<div>\n",
       "<style scoped>\n",
       "    .dataframe tbody tr th:only-of-type {\n",
       "        vertical-align: middle;\n",
       "    }\n",
       "\n",
       "    .dataframe tbody tr th {\n",
       "        vertical-align: top;\n",
       "    }\n",
       "\n",
       "    .dataframe thead th {\n",
       "        text-align: right;\n",
       "    }\n",
       "</style>\n",
       "<table border=\"1\" class=\"dataframe\">\n",
       "  <thead>\n",
       "    <tr style=\"text-align: right;\">\n",
       "      <th></th>\n",
       "      <th>imdb_id</th>\n",
       "      <th>budget</th>\n",
       "      <th>revenue</th>\n",
       "      <th>certification</th>\n",
       "    </tr>\n",
       "  </thead>\n",
       "  <tbody>\n",
       "    <tr>\n",
       "      <th>0</th>\n",
       "      <td>0</td>\n",
       "      <td>NaN</td>\n",
       "      <td>NaN</td>\n",
       "      <td>NaN</td>\n",
       "    </tr>\n",
       "    <tr>\n",
       "      <th>1</th>\n",
       "      <td>tt0113026</td>\n",
       "      <td>10000000.0</td>\n",
       "      <td>0.0</td>\n",
       "      <td>NaN</td>\n",
       "    </tr>\n",
       "    <tr>\n",
       "      <th>2</th>\n",
       "      <td>tt0113092</td>\n",
       "      <td>0.0</td>\n",
       "      <td>0.0</td>\n",
       "      <td>NaN</td>\n",
       "    </tr>\n",
       "    <tr>\n",
       "      <th>3</th>\n",
       "      <td>tt0116391</td>\n",
       "      <td>0.0</td>\n",
       "      <td>0.0</td>\n",
       "      <td>NaN</td>\n",
       "    </tr>\n",
       "    <tr>\n",
       "      <th>4</th>\n",
       "      <td>tt0118694</td>\n",
       "      <td>150000.0</td>\n",
       "      <td>12854953.0</td>\n",
       "      <td>PG</td>\n",
       "    </tr>\n",
       "  </tbody>\n",
       "</table>\n",
       "</div>"
      ],
      "text/plain": [
       "     imdb_id      budget     revenue certification\n",
       "0          0         NaN         NaN           NaN\n",
       "1  tt0113026  10000000.0         0.0           NaN\n",
       "2  tt0113092         0.0         0.0           NaN\n",
       "3  tt0116391         0.0         0.0           NaN\n",
       "4  tt0118694    150000.0  12854953.0            PG"
      ]
     },
     "execution_count": 10,
     "metadata": {},
     "output_type": "execute_result"
    }
   ],
   "source": [
    "tmdb_api.head()"
   ]
  },
  {
   "cell_type": "markdown",
   "id": "70f4c804",
   "metadata": {},
   "source": [
    "### Split genres"
   ]
  },
  {
   "cell_type": "code",
   "execution_count": 11,
   "id": "3012d546",
   "metadata": {},
   "outputs": [
    {
     "data": {
      "text/html": [
       "<div>\n",
       "<style scoped>\n",
       "    .dataframe tbody tr th:only-of-type {\n",
       "        vertical-align: middle;\n",
       "    }\n",
       "\n",
       "    .dataframe tbody tr th {\n",
       "        vertical-align: top;\n",
       "    }\n",
       "\n",
       "    .dataframe thead th {\n",
       "        text-align: right;\n",
       "    }\n",
       "</style>\n",
       "<table border=\"1\" class=\"dataframe\">\n",
       "  <thead>\n",
       "    <tr style=\"text-align: right;\">\n",
       "      <th></th>\n",
       "      <th>tconst</th>\n",
       "      <th>primaryTitle</th>\n",
       "      <th>startYear</th>\n",
       "      <th>runtimeMinutes</th>\n",
       "      <th>genres</th>\n",
       "      <th>genres_split</th>\n",
       "    </tr>\n",
       "  </thead>\n",
       "  <tbody>\n",
       "    <tr>\n",
       "      <th>0</th>\n",
       "      <td>tt0035423</td>\n",
       "      <td>Kate &amp; Leopold</td>\n",
       "      <td>2001.0</td>\n",
       "      <td>118</td>\n",
       "      <td>Comedy,Fantasy,Romance</td>\n",
       "      <td>[Comedy, Fantasy, Romance]</td>\n",
       "    </tr>\n",
       "    <tr>\n",
       "      <th>1</th>\n",
       "      <td>tt0062336</td>\n",
       "      <td>The Tango of the Widower and Its Distorting Mi...</td>\n",
       "      <td>2020.0</td>\n",
       "      <td>70</td>\n",
       "      <td>Drama</td>\n",
       "      <td>[Drama]</td>\n",
       "    </tr>\n",
       "    <tr>\n",
       "      <th>2</th>\n",
       "      <td>tt0069049</td>\n",
       "      <td>The Other Side of the Wind</td>\n",
       "      <td>2018.0</td>\n",
       "      <td>122</td>\n",
       "      <td>Drama</td>\n",
       "      <td>[Drama]</td>\n",
       "    </tr>\n",
       "    <tr>\n",
       "      <th>3</th>\n",
       "      <td>tt0088751</td>\n",
       "      <td>The Naked Monster</td>\n",
       "      <td>2005.0</td>\n",
       "      <td>100</td>\n",
       "      <td>Comedy,Horror,Sci-Fi</td>\n",
       "      <td>[Comedy, Horror, Sci-Fi]</td>\n",
       "    </tr>\n",
       "    <tr>\n",
       "      <th>4</th>\n",
       "      <td>tt0096056</td>\n",
       "      <td>Crime and Punishment</td>\n",
       "      <td>2002.0</td>\n",
       "      <td>126</td>\n",
       "      <td>Drama</td>\n",
       "      <td>[Drama]</td>\n",
       "    </tr>\n",
       "  </tbody>\n",
       "</table>\n",
       "</div>"
      ],
      "text/plain": [
       "      tconst                                       primaryTitle  startYear  \\\n",
       "0  tt0035423                                     Kate & Leopold     2001.0   \n",
       "1  tt0062336  The Tango of the Widower and Its Distorting Mi...     2020.0   \n",
       "2  tt0069049                         The Other Side of the Wind     2018.0   \n",
       "3  tt0088751                                  The Naked Monster     2005.0   \n",
       "4  tt0096056                               Crime and Punishment     2002.0   \n",
       "\n",
       "   runtimeMinutes                  genres                genres_split  \n",
       "0             118  Comedy,Fantasy,Romance  [Comedy, Fantasy, Romance]  \n",
       "1              70                   Drama                     [Drama]  \n",
       "2             122                   Drama                     [Drama]  \n",
       "3             100    Comedy,Horror,Sci-Fi    [Comedy, Horror, Sci-Fi]  \n",
       "4             126                   Drama                     [Drama]  "
      ]
     },
     "execution_count": 11,
     "metadata": {},
     "output_type": "execute_result"
    }
   ],
   "source": [
    "## adding expand=True\n",
    "basics['genres_split'] = basics['genres'].str.split(',')\n",
    "basics.head()"
   ]
  },
  {
   "cell_type": "code",
   "execution_count": 16,
   "id": "23eb6472",
   "metadata": {},
   "outputs": [
    {
     "data": {
      "text/plain": [
       "str"
      ]
     },
     "execution_count": 16,
     "metadata": {},
     "output_type": "execute_result"
    }
   ],
   "source": [
    "type('genres_split')"
   ]
  },
  {
   "cell_type": "code",
   "execution_count": 13,
   "id": "566c0dc4",
   "metadata": {},
   "outputs": [],
   "source": [
    "## use .apply pd.Series to convert a dict to columns\n",
    "genre = basics['genres_split'].apply(pd.Series)"
   ]
  },
  {
   "cell_type": "code",
   "execution_count": 19,
   "id": "31390536",
   "metadata": {},
   "outputs": [
    {
     "data": {
      "text/plain": [
       "'genres_split'"
      ]
     },
     "execution_count": 19,
     "metadata": {},
     "output_type": "execute_result"
    }
   ],
   "source": []
  },
  {
   "cell_type": "code",
   "execution_count": null,
   "id": "fb10aa0d",
   "metadata": {},
   "outputs": [],
   "source": []
  },
  {
   "cell_type": "code",
   "execution_count": null,
   "id": "adba60e3",
   "metadata": {},
   "outputs": [],
   "source": []
  },
  {
   "cell_type": "code",
   "execution_count": null,
   "id": "86a21ba8",
   "metadata": {},
   "outputs": [],
   "source": []
  },
  {
   "cell_type": "code",
   "execution_count": null,
   "id": "d29854a6",
   "metadata": {},
   "outputs": [],
   "source": []
  },
  {
   "cell_type": "code",
   "execution_count": null,
   "id": "46c955bd",
   "metadata": {},
   "outputs": [],
   "source": [
    "## get the unique ids\n",
    "unique_genres = sorted(basics['genres'].unique())\n",
    "unique_genres[:2]"
   ]
  },
  {
   "cell_type": "code",
   "execution_count": null,
   "id": "425806f0",
   "metadata": {},
   "outputs": [],
   "source": [
    "## exploding the column of lists\n",
    "exploded = basics.explode('genres_split')\n",
    "exploded.head()\n",
    "exploded.info()"
   ]
  },
  {
   "cell_type": "code",
   "execution_count": null,
   "id": "910dbea0",
   "metadata": {},
   "outputs": [],
   "source": [
    "## saving the unique values from the exploded column\n",
    "cols_to_make = exploded['genres_split'].dropna().unique()\n",
    "cols_to_make"
   ]
  },
  {
   "cell_type": "code",
   "execution_count": null,
   "id": "f1956a3c",
   "metadata": {},
   "outputs": [],
   "source": [
    "## examining a single value from the coordinates col\n",
    "genre = basics.loc[0,\"genres\"]\n",
    "print(type(genre))\n",
    "genre"
   ]
  },
  {
   "cell_type": "code",
   "execution_count": null,
   "id": "e9f86e54",
   "metadata": {},
   "outputs": [],
   "source": []
  },
  {
   "cell_type": "code",
   "execution_count": null,
   "id": "bc4baeec",
   "metadata": {},
   "outputs": [],
   "source": []
  },
  {
   "cell_type": "code",
   "execution_count": null,
   "id": "459c8252",
   "metadata": {},
   "outputs": [],
   "source": []
  },
  {
   "cell_type": "code",
   "execution_count": null,
   "id": "458f767e",
   "metadata": {},
   "outputs": [],
   "source": []
  }
 ],
 "metadata": {
  "kernelspec": {
   "display_name": "Python (dojo-env)",
   "language": "python",
   "name": "dojo-env"
  },
  "language_info": {
   "codemirror_mode": {
    "name": "ipython",
    "version": 3
   },
   "file_extension": ".py",
   "mimetype": "text/x-python",
   "name": "python",
   "nbconvert_exporter": "python",
   "pygments_lexer": "ipython3",
   "version": "3.9.15"
  },
  "toc": {
   "base_numbering": 1,
   "nav_menu": {},
   "number_sections": false,
   "sideBar": true,
   "skip_h1_title": false,
   "title_cell": "Table of Contents",
   "title_sidebar": "Contents",
   "toc_cell": false,
   "toc_position": {},
   "toc_section_display": true,
   "toc_window_display": false
  }
 },
 "nbformat": 4,
 "nbformat_minor": 5
}
