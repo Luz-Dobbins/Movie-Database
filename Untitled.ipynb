{
 "cells": [
  {
   "cell_type": "code",
   "execution_count": 2,
   "id": "40c6ebe8",
   "metadata": {},
   "outputs": [],
   "source": [
    "import pandas as pd\n",
    "import numpy as np\n",
    "import seaborn as sns\n",
    "from scipy import stats\n",
    "import warnings\n",
    "warnings.filterwarnings('ignore')"
   ]
  },
  {
   "cell_type": "code",
   "execution_count": 3,
   "id": "7eada24a",
   "metadata": {},
   "outputs": [
    {
     "name": "stdout",
     "output_type": "stream",
     "text": [
      "<class 'pandas.core.frame.DataFrame'>\n",
      "RangeIndex: 1370 entries, 0 to 1369\n",
      "Data columns (total 26 columns):\n",
      " #   Column                 Non-Null Count  Dtype  \n",
      "---  ------                 --------------  -----  \n",
      " 0   imdb_id                1370 non-null   object \n",
      " 1   adult                  1369 non-null   float64\n",
      " 2   backdrop_path          764 non-null    object \n",
      " 3   belongs_to_collection  100 non-null    object \n",
      " 4   budget                 1369 non-null   float64\n",
      " 5   genres                 1369 non-null   object \n",
      " 6   homepage               109 non-null    object \n",
      " 7   id                     1369 non-null   float64\n",
      " 8   original_language      1369 non-null   object \n",
      " 9   original_title         1369 non-null   object \n",
      " 10  overview               1344 non-null   object \n",
      " 11  popularity             1369 non-null   float64\n",
      " 12  poster_path            1240 non-null   object \n",
      " 13  production_companies   1369 non-null   object \n",
      " 14  production_countries   1369 non-null   object \n",
      " 15  release_date           1356 non-null   object \n",
      " 16  revenue                1369 non-null   float64\n",
      " 17  runtime                1369 non-null   float64\n",
      " 18  spoken_languages       1369 non-null   object \n",
      " 19  status                 1369 non-null   object \n",
      " 20  tagline                568 non-null    object \n",
      " 21  title                  1369 non-null   object \n",
      " 22  video                  1369 non-null   float64\n",
      " 23  vote_average           1369 non-null   float64\n",
      " 24  vote_count             1369 non-null   float64\n",
      " 25  certification          402 non-null    object \n",
      "dtypes: float64(9), object(17)\n",
      "memory usage: 278.4+ KB\n"
     ]
    }
   ],
   "source": [
    "df = pd.read_csv('Data/final_tmdb_data_2001.csv.gz')\n",
    "df.info()"
   ]
  },
  {
   "cell_type": "code",
   "execution_count": null,
   "id": "a41ee317",
   "metadata": {},
   "outputs": [],
   "source": []
  }
 ],
 "metadata": {
  "kernelspec": {
   "display_name": "Python (dojo-env)",
   "language": "python",
   "name": "dojo-env"
  },
  "language_info": {
   "codemirror_mode": {
    "name": "ipython",
    "version": 3
   },
   "file_extension": ".py",
   "mimetype": "text/x-python",
   "name": "python",
   "nbconvert_exporter": "python",
   "pygments_lexer": "ipython3",
   "version": "3.9.15"
  },
  "toc": {
   "base_numbering": 1,
   "nav_menu": {},
   "number_sections": false,
   "sideBar": true,
   "skip_h1_title": false,
   "title_cell": "Table of Contents",
   "title_sidebar": "Contents",
   "toc_cell": false,
   "toc_position": {},
   "toc_section_display": true,
   "toc_window_display": false
  }
 },
 "nbformat": 4,
 "nbformat_minor": 5
}
